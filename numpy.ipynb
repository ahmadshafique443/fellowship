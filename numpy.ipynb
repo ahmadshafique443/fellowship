{
 "cells": [
  {
   "cell_type": "markdown",
   "id": "524a10f9",
   "metadata": {},
   "source": [
    "# numpy"
   ]
  },
  {
   "cell_type": "markdown",
   "id": "96e9e87d",
   "metadata": {},
   "source": [
    "## importing numpy as its common alias"
   ]
  },
  {
   "cell_type": "code",
   "execution_count": 1,
   "id": "54f1e210",
   "metadata": {},
   "outputs": [],
   "source": [
    "import numpy as np"
   ]
  },
  {
   "cell_type": "markdown",
   "id": "4adad1e5",
   "metadata": {},
   "source": [
    "## Basics of numpy array"
   ]
  },
  {
   "cell_type": "code",
   "execution_count": 2,
   "id": "a4ae39f7",
   "metadata": {},
   "outputs": [
    {
     "name": "stdout",
     "output_type": "stream",
     "text": [
      "['a' 'bb' 'ccc']\n"
     ]
    }
   ],
   "source": [
    "arr = np.array(['a', 'bb', 'ccc'])\n",
    "print(arr)"
   ]
  },
  {
   "cell_type": "code",
   "execution_count": 3,
   "id": "48ecfd9a",
   "metadata": {},
   "outputs": [
    {
     "name": "stdout",
     "output_type": "stream",
     "text": [
      "[[1 2 3]\n",
      " [4 5 6]\n",
      " [7 8 9]]\n"
     ]
    }
   ],
   "source": [
    "##multidimensional array\n",
    "arr2 = np.array([[1,2,3],[4,5,6],[7,8,9]])\n",
    "print(arr2)"
   ]
  },
  {
   "cell_type": "code",
   "execution_count": 4,
   "id": "edeada8f",
   "metadata": {},
   "outputs": [
    {
     "data": {
      "text/plain": [
       "2"
      ]
     },
     "execution_count": 4,
     "metadata": {},
     "output_type": "execute_result"
    }
   ],
   "source": [
    "#dimension of array\n",
    "arr2.ndim"
   ]
  },
  {
   "cell_type": "code",
   "execution_count": 5,
   "id": "f894e8db",
   "metadata": {},
   "outputs": [
    {
     "data": {
      "text/plain": [
       "(3, 3)"
      ]
     },
     "execution_count": 5,
     "metadata": {},
     "output_type": "execute_result"
    }
   ],
   "source": [
    "arr2.shape"
   ]
  },
  {
   "cell_type": "code",
   "execution_count": 6,
   "id": "b8d3be6b",
   "metadata": {},
   "outputs": [
    {
     "data": {
      "text/plain": [
       "dtype('int32')"
      ]
     },
     "execution_count": 6,
     "metadata": {},
     "output_type": "execute_result"
    }
   ],
   "source": [
    "arr2.dtype"
   ]
  },
  {
   "cell_type": "code",
   "execution_count": 7,
   "id": "59f0e9d8",
   "metadata": {},
   "outputs": [
    {
     "data": {
      "text/plain": [
       "4"
      ]
     },
     "execution_count": 7,
     "metadata": {},
     "output_type": "execute_result"
    }
   ],
   "source": [
    "#4 bcoz int32 is equal to 4 bytes\n",
    "arr2.itemsize"
   ]
  },
  {
   "cell_type": "code",
   "execution_count": 8,
   "id": "8582c979",
   "metadata": {},
   "outputs": [
    {
     "data": {
      "text/plain": [
       "9"
      ]
     },
     "execution_count": 8,
     "metadata": {},
     "output_type": "execute_result"
    }
   ],
   "source": [
    "#numer of elements in array\n",
    "arr2.size"
   ]
  },
  {
   "cell_type": "code",
   "execution_count": 9,
   "id": "fa062938",
   "metadata": {},
   "outputs": [
    {
     "data": {
      "text/plain": [
       "36"
      ]
     },
     "execution_count": 9,
     "metadata": {},
     "output_type": "execute_result"
    }
   ],
   "source": [
    "#multiply the sizeofaelements with total no of elements\n",
    "arr2.nbytes"
   ]
  },
  {
   "cell_type": "markdown",
   "id": "2e18de0a",
   "metadata": {},
   "source": [
    "## manipulating arrays"
   ]
  },
  {
   "cell_type": "code",
   "execution_count": 10,
   "id": "72e18d2a",
   "metadata": {},
   "outputs": [
    {
     "name": "stdout",
     "output_type": "stream",
     "text": [
      "[[1 2 3]\n",
      " [4 5 6]\n",
      " [7 8 9]]\n"
     ]
    }
   ],
   "source": [
    "print(arr2)"
   ]
  },
  {
   "cell_type": "code",
   "execution_count": 11,
   "id": "129c605d",
   "metadata": {},
   "outputs": [
    {
     "name": "stdout",
     "output_type": "stream",
     "text": [
      "8\n",
      "8\n"
     ]
    }
   ],
   "source": [
    "#to access element 8\n",
    "print(arr2[2][1])\n",
    "print(arr2[2,1])"
   ]
  },
  {
   "cell_type": "code",
   "execution_count": 12,
   "id": "fb140eec",
   "metadata": {},
   "outputs": [
    {
     "name": "stdout",
     "output_type": "stream",
     "text": [
      "2nd row  [4 5 6]\n",
      "3rd column  [3 6 9]\n"
     ]
    }
   ],
   "source": [
    "##accessing a whole row and whole column\n",
    "print(\"2nd row \", arr2[1,:])\n",
    "print(\"3rd column \", arr2[:,2])"
   ]
  },
  {
   "cell_type": "code",
   "execution_count": 13,
   "id": "ac700f74",
   "metadata": {},
   "outputs": [
    {
     "name": "stdout",
     "output_type": "stream",
     "text": [
      "[[[2 3]\n",
      "  [4 5]]\n",
      "\n",
      " [[6 5]\n",
      "  [9 0]]]\n"
     ]
    }
   ],
   "source": [
    "#multidimensional array \n",
    "arr3 = np.array([[[2,3],[4,5]],[[6,5],[9,0]]])\n",
    "print(arr3)"
   ]
  },
  {
   "cell_type": "code",
   "execution_count": 14,
   "id": "6448cc0c",
   "metadata": {},
   "outputs": [
    {
     "name": "stdout",
     "output_type": "stream",
     "text": [
      "[[[2 3]\n",
      "  [4 5]]\n",
      "\n",
      " [[7 5]\n",
      "  [9 0]]]\n"
     ]
    }
   ],
   "source": [
    "#updating the value of 6 to 7\n",
    "arr3[1,0,0] = 7\n",
    "print(arr3)"
   ]
  },
  {
   "cell_type": "markdown",
   "id": "084ccb14",
   "metadata": {},
   "source": [
    "## Initializing different type of Arrays"
   ]
  },
  {
   "cell_type": "code",
   "execution_count": 15,
   "id": "2ec1af42",
   "metadata": {},
   "outputs": [
    {
     "name": "stdout",
     "output_type": "stream",
     "text": [
      "[0 0 0 0]\n",
      "[[0. 0.]\n",
      " [0. 0.]\n",
      " [0. 0.]]\n"
     ]
    }
   ],
   "source": [
    "#array with all entries as 0\n",
    "arr4 = np.zeros(4, dtype ='int')\n",
    "arr5 = np.zeros((3,2))\n",
    "print(arr4)\n",
    "print(arr5)"
   ]
  },
  {
   "cell_type": "code",
   "execution_count": 16,
   "id": "7e47f201",
   "metadata": {},
   "outputs": [
    {
     "name": "stdout",
     "output_type": "stream",
     "text": [
      "[0 0 0 0]\n",
      "[[0. 0.]\n",
      " [0. 0.]\n",
      " [0. 0.]]\n"
     ]
    }
   ],
   "source": [
    "#array with all entries as 1\n",
    "arr6 = np.ones(4)\n",
    "arr7 = np.ones((3,2), dtype ='int')\n",
    "print(arr4)\n",
    "print(arr5)"
   ]
  },
  {
   "cell_type": "code",
   "execution_count": 17,
   "id": "4e3f8072",
   "metadata": {},
   "outputs": [
    {
     "name": "stdout",
     "output_type": "stream",
     "text": [
      "[[76 76 76 76 76]\n",
      " [76 76 76 76 76]\n",
      " [76 76 76 76 76]\n",
      " [76 76 76 76 76]]\n"
     ]
    }
   ],
   "source": [
    "#array with all entries of your choice\n",
    "print(np.full((4,5),76))"
   ]
  },
  {
   "cell_type": "code",
   "execution_count": 18,
   "id": "8ecdccde",
   "metadata": {},
   "outputs": [
    {
     "name": "stdout",
     "output_type": "stream",
     "text": [
      "[[0.81825637 0.05019147 0.76610524 0.9555047 ]\n",
      " [0.76606056 0.98276128 0.5914281  0.61581734]]\n",
      "[[ 3  8 -4 -8]\n",
      " [-3  2 -9 -9]]\n"
     ]
    }
   ],
   "source": [
    "#array of random numbers\n",
    "print(np.random.rand(2,4))\n",
    "#array of random int numbers with range(-10,10)\n",
    "print(np.random.randint(-10, 15, size=(2,4)))"
   ]
  },
  {
   "cell_type": "code",
   "execution_count": 19,
   "id": "fbf92760",
   "metadata": {},
   "outputs": [
    {
     "data": {
      "text/plain": [
       "array([[1, 0, 0],\n",
       "       [0, 1, 0],\n",
       "       [0, 0, 1]])"
      ]
     },
     "execution_count": 19,
     "metadata": {},
     "output_type": "execute_result"
    }
   ],
   "source": [
    "#n identity matrix\n",
    "np.identity(3,dtype='int')"
   ]
  },
  {
   "cell_type": "code",
   "execution_count": 20,
   "id": "64f9499c",
   "metadata": {},
   "outputs": [
    {
     "data": {
      "text/plain": [
       "array([[1, 2, 3],\n",
       "       [1, 2, 3],\n",
       "       [1, 2, 3]])"
      ]
     },
     "execution_count": 20,
     "metadata": {},
     "output_type": "execute_result"
    }
   ],
   "source": [
    "arr9 = np.array([[1,2,3]])\n",
    "np.repeat(arr9,3,axis=0)"
   ]
  },
  {
   "cell_type": "code",
   "execution_count": 21,
   "id": "cb1df54c",
   "metadata": {},
   "outputs": [
    {
     "name": "stdout",
     "output_type": "stream",
     "text": [
      "[[1. 1. 1. 1. 1.]\n",
      " [1. 1. 1. 1. 1.]\n",
      " [1. 1. 1. 1. 1.]\n",
      " [1. 1. 1. 1. 1.]\n",
      " [1. 1. 1. 1. 1.]]\n",
      "[[2 2 2]\n",
      " [2 3 2]\n",
      " [2 2 2]]\n",
      "[[1. 1. 1. 1. 1.]\n",
      " [1. 2. 2. 2. 1.]\n",
      " [1. 2. 3. 2. 1.]\n",
      " [1. 2. 2. 2. 1.]\n",
      " [1. 1. 1. 1. 1.]]\n"
     ]
    }
   ],
   "source": [
    "#shortcut to initialize a array of your choice\n",
    "arr10 = np.ones((5,5))\n",
    "arr11 = np.full((3,3),2)\n",
    "arr11[1,1]=3\n",
    "print(arr10)\n",
    "print(arr11)\n",
    "arr10[1:4,1:4]=arr11\n",
    "print(arr10)"
   ]
  },
  {
   "cell_type": "code",
   "execution_count": 22,
   "id": "1d667977",
   "metadata": {},
   "outputs": [
    {
     "name": "stdout",
     "output_type": "stream",
     "text": [
      "[[2 2 2]\n",
      " [2 3 2]\n",
      " [2 2 2]]\n"
     ]
    }
   ],
   "source": [
    "#copy the contents of a arrray to another array\n",
    "arr12 = arr11.copy()\n",
    "print(arr12)"
   ]
  },
  {
   "cell_type": "markdown",
   "id": "0b95dd6b",
   "metadata": {},
   "source": [
    "## Performing basic math operations"
   ]
  },
  {
   "cell_type": "code",
   "execution_count": 23,
   "id": "ae9b2569",
   "metadata": {},
   "outputs": [
    {
     "name": "stdout",
     "output_type": "stream",
     "text": [
      "[[2 2 2]\n",
      " [2 3 2]\n",
      " [2 2 2]]\n",
      "[[4 4 4]\n",
      " [4 5 4]\n",
      " [4 4 4]]\n"
     ]
    }
   ],
   "source": [
    "print(arr12)\n",
    "print(arr12+2)"
   ]
  },
  {
   "cell_type": "code",
   "execution_count": 24,
   "id": "ef6edcb4",
   "metadata": {},
   "outputs": [
    {
     "name": "stdout",
     "output_type": "stream",
     "text": [
      "[[4 4 4]\n",
      " [4 9 4]\n",
      " [4 4 4]]\n"
     ]
    }
   ],
   "source": [
    "print(arr12**2)"
   ]
  },
  {
   "cell_type": "code",
   "execution_count": 25,
   "id": "c5db7165",
   "metadata": {},
   "outputs": [],
   "source": [
    "arr13 = np.array([0,30,45,60,90])"
   ]
  },
  {
   "cell_type": "code",
   "execution_count": 26,
   "id": "3b153fa6",
   "metadata": {},
   "outputs": [
    {
     "name": "stdout",
     "output_type": "stream",
     "text": [
      "[ 0.         -0.98803162  0.85090352 -0.30481062  0.89399666]\n",
      "[ 1.          0.15425145  0.52532199 -0.95241298 -0.44807362]\n"
     ]
    }
   ],
   "source": [
    "# output in radians\n",
    "print(np.sin(arr13))\n",
    "print(np.cos(arr13))"
   ]
  },
  {
   "cell_type": "code",
   "execution_count": 27,
   "id": "a52a51cc",
   "metadata": {},
   "outputs": [
    {
     "name": "stdout",
     "output_type": "stream",
     "text": [
      "[0.         0.5        0.70710678 0.8660254  1.        ]\n",
      "[1.00000000e+00 8.66025404e-01 7.07106781e-01 5.00000000e-01\n",
      " 6.12323400e-17]\n"
     ]
    }
   ],
   "source": [
    "# output in degrees\n",
    "print(np.sin(arr13*np.pi/180))\n",
    "print(np.cos(arr13*np.pi/180))"
   ]
  },
  {
   "cell_type": "markdown",
   "id": "959bc819",
   "metadata": {},
   "source": [
    "## Linear Algebra"
   ]
  },
  {
   "cell_type": "code",
   "execution_count": 28,
   "id": "6170a879",
   "metadata": {},
   "outputs": [
    {
     "name": "stdout",
     "output_type": "stream",
     "text": [
      "[[1 2 3]\n",
      " [4 5 6]\n",
      " [7 8 9]]\n",
      "[[2 2 2]\n",
      " [2 3 2]\n",
      " [2 2 2]]\n"
     ]
    }
   ],
   "source": [
    "print(arr2)\n",
    "print(arr11)"
   ]
  },
  {
   "cell_type": "code",
   "execution_count": 29,
   "id": "e099e062",
   "metadata": {},
   "outputs": [
    {
     "data": {
      "text/plain": [
       "array([[12, 14, 12],\n",
       "       [30, 35, 30],\n",
       "       [48, 56, 48]])"
      ]
     },
     "execution_count": 29,
     "metadata": {},
     "output_type": "execute_result"
    }
   ],
   "source": [
    "# matrix multiplication\n",
    "np.matmul(arr2, arr11)"
   ]
  },
  {
   "cell_type": "code",
   "execution_count": 30,
   "id": "659b8ff2",
   "metadata": {},
   "outputs": [
    {
     "data": {
      "text/plain": [
       "0.0"
      ]
     },
     "execution_count": 30,
     "metadata": {},
     "output_type": "execute_result"
    }
   ],
   "source": [
    "# matrix det\n",
    "np.linalg.det(arr2)"
   ]
  },
  {
   "cell_type": "code",
   "execution_count": 31,
   "id": "225c50ea",
   "metadata": {},
   "outputs": [
    {
     "data": {
      "text/plain": [
       "array([[-1.58333333,  1.125     ,  0.04166667],\n",
       "       [-0.83333333,  0.75      , -0.08333333],\n",
       "       [ 2.25      , -1.625     ,  0.125     ]])"
      ]
     },
     "execution_count": 31,
     "metadata": {},
     "output_type": "execute_result"
    }
   ],
   "source": [
    "# inverse of a matrix\n",
    "np.linalg.inv(np.array([[1,5,3],[2,7,4],[8,1,6]]))"
   ]
  },
  {
   "cell_type": "markdown",
   "id": "d2786640",
   "metadata": {},
   "source": [
    "## Statistics"
   ]
  },
  {
   "cell_type": "code",
   "execution_count": 32,
   "id": "caa83063",
   "metadata": {},
   "outputs": [],
   "source": [
    "stat = np.array([22,14,9,43,13,95,54,88])"
   ]
  },
  {
   "cell_type": "code",
   "execution_count": 33,
   "id": "714f9eb8",
   "metadata": {},
   "outputs": [
    {
     "name": "stdout",
     "output_type": "stream",
     "text": [
      "338\n",
      "9\n",
      "95\n",
      "42.25\n",
      "32.5\n"
     ]
    }
   ],
   "source": [
    "## min, max, mean, median, sum\n",
    "print(np.sum(stat))\n",
    "print(np.min(stat))\n",
    "print(np.max(stat))\n",
    "print(np.mean(stat))\n",
    "print(np.median(stat))"
   ]
  },
  {
   "cell_type": "code",
   "execution_count": 34,
   "id": "29c3756a",
   "metadata": {},
   "outputs": [
    {
     "name": "stdout",
     "output_type": "stream",
     "text": [
      "[[2 2 2]\n",
      " [2 3 2]\n",
      " [2 2 2]]\n",
      "[[2 2 2 2 3 2 2 2 2]]\n"
     ]
    }
   ],
   "source": [
    "##changing shape of array\n",
    "print(arr12)\n",
    "print(arr12.reshape(1,9))"
   ]
  },
  {
   "cell_type": "code",
   "execution_count": 35,
   "id": "0cddc20f",
   "metadata": {},
   "outputs": [
    {
     "name": "stdout",
     "output_type": "stream",
     "text": [
      "[[1 2 3]\n",
      " [4 5 6]\n",
      " [7 8 9]]\n",
      "[[2 2 2]\n",
      " [2 3 2]\n",
      " [2 2 2]]\n",
      "[[1 2 3]\n",
      " [4 5 6]\n",
      " [7 8 9]\n",
      " [2 2 2]\n",
      " [2 3 2]\n",
      " [2 2 2]]\n"
     ]
    }
   ],
   "source": [
    "#vertically stacking two arrays\n",
    "print(arr2)\n",
    "print(arr11)\n",
    "print(np.vstack([arr2,arr11]))"
   ]
  },
  {
   "cell_type": "code",
   "execution_count": 36,
   "id": "263812f7",
   "metadata": {},
   "outputs": [
    {
     "name": "stdout",
     "output_type": "stream",
     "text": [
      "[[1 2 3 2 2 2]\n",
      " [4 5 6 2 3 2]\n",
      " [7 8 9 2 2 2]]\n"
     ]
    }
   ],
   "source": [
    "#horizontal stacking two arrays\n",
    "print(np.hstack((arr2,arr11)))"
   ]
  },
  {
   "cell_type": "code",
   "execution_count": 37,
   "id": "1a37133a",
   "metadata": {},
   "outputs": [
    {
     "name": "stdout",
     "output_type": "stream",
     "text": [
      "[[16 78 78  5 20 13 16 37 90 75 78  0 20 50  8 22 65 59 42 26 90 40 29 84\n",
      "   1 33 91 92  1 27 94 96 49 20 34 78 28 96 10 59  0 20 82 95 46 26 63 67\n",
      "  96 77 56 37 80 85 43 98 40 81 82 67 23 64 75 46 84 79 77 51 98 32 56 83\n",
      "  87 95 62 21 21 35  8 53 31 79 17 64 30 89 89 41  9 94 49 85  8 55 80 86\n",
      "  41 69 79  9]]\n"
     ]
    }
   ],
   "source": [
    "arr14 = np.random.randint(0,100, size=(1,100))\n",
    "print(arr14)"
   ]
  },
  {
   "cell_type": "code",
   "execution_count": 38,
   "id": "00a95fe7",
   "metadata": {},
   "outputs": [
    {
     "data": {
      "text/plain": [
       "array([[ 0,  0,  1,  1,  5,  8,  8,  8,  9,  9, 10, 13, 16, 16, 17, 20,\n",
       "        20, 20, 20, 21, 21, 22, 23, 26, 26, 27, 28, 29, 30, 31, 32, 33,\n",
       "        34, 35, 37, 37, 40, 40, 41, 41, 42, 43, 46, 46, 49, 49, 50, 51,\n",
       "        53, 55, 56, 56, 59, 59, 62, 63, 64, 64, 65, 67, 67, 69, 75, 75,\n",
       "        77, 77, 78, 78, 78, 78, 79, 79, 79, 80, 80, 81, 82, 82, 83, 84,\n",
       "        84, 85, 85, 86, 87, 89, 89, 90, 90, 91, 92, 94, 94, 95, 95, 96,\n",
       "        96, 96, 98, 98]])"
      ]
     },
     "execution_count": 38,
     "metadata": {},
     "output_type": "execute_result"
    }
   ],
   "source": [
    "# sort array\n",
    "np.sort(arr14)"
   ]
  },
  {
   "cell_type": "code",
   "execution_count": 39,
   "id": "17f3e607",
   "metadata": {},
   "outputs": [
    {
     "name": "stdout",
     "output_type": "stream",
     "text": [
      "[[False False False False False False False False False False False False\n",
      "  False False False False  True  True False False False False False False\n",
      "  False False False False False False False False False False False False\n",
      "  False False False  True False False False False False False  True  True\n",
      "  False False  True False False False False False False False False  True\n",
      "  False  True False False False False False  True False False  True False\n",
      "  False False  True False False False False  True False False False  True\n",
      "  False False False False False False False False False  True False False\n",
      "  False  True False False]]\n"
     ]
    }
   ],
   "source": [
    "# filtering array\n",
    "print((arr14>50) & (arr14<75))"
   ]
  },
  {
   "cell_type": "code",
   "execution_count": 40,
   "id": "6e377f0f",
   "metadata": {},
   "outputs": [
    {
     "name": "stdout",
     "output_type": "stream",
     "text": [
      "[[1 2 3]\n",
      " [4 5 6]\n",
      " [7 8 9]]\n",
      "[[2 2 2]\n",
      " [2 3 2]\n",
      " [2 2 2]]\n",
      "False\n"
     ]
    }
   ],
   "source": [
    "# comparison\n",
    "print(arr2)\n",
    "print(arr11)\n",
    "print(np.array_equal(arr2,arr11))"
   ]
  }
 ],
 "metadata": {
  "kernelspec": {
   "display_name": "Python 3 (ipykernel)",
   "language": "python",
   "name": "python3"
  },
  "language_info": {
   "codemirror_mode": {
    "name": "ipython",
    "version": 3
   },
   "file_extension": ".py",
   "mimetype": "text/x-python",
   "name": "python",
   "nbconvert_exporter": "python",
   "pygments_lexer": "ipython3",
   "version": "3.10.6"
  }
 },
 "nbformat": 4,
 "nbformat_minor": 5
}
